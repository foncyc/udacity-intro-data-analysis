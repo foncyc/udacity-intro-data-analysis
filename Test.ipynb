{
 "cells": [
  {
   "cell_type": "markdown",
   "metadata": {},
   "source": [
    "# ALPHONSUS MA GERARD COOTAUCO\n",
    "### Campanilla St., City Park Subd. Lipa City, Batangas\n",
    "### adcootauco@up.edu.ph\n",
    "\n",
    "```markdown\n",
    "###### 0916-675-8169\n",
    "\n",
    "[Curriculum Vitae](https://adcootauco.herokuapp.com)\n",
    "\n",
    "    print('hello foncylicious')\n",
    "\n",
    "_sample_ __text here__\n",
    "*another* **sample text here__\n",
    "```"
   ]
  },
  {
   "cell_type": "code",
   "execution_count": null,
   "metadata": {
    "collapsed": true
   },
   "outputs": [],
   "source": []
  }
 ],
 "metadata": {
  "kernelspec": {
   "display_name": "Python 3",
   "language": "python",
   "name": "python3"
  },
  "language_info": {
   "codemirror_mode": {
    "name": "ipython",
    "version": 3
   },
   "file_extension": ".py",
   "mimetype": "text/x-python",
   "name": "python",
   "nbconvert_exporter": "python",
   "pygments_lexer": "ipython3",
   "version": "3.6.0"
  }
 },
 "nbformat": 4,
 "nbformat_minor": 2
}
